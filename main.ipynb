{
 "cells": [
  {
   "cell_type": "code",
   "execution_count": null,
   "id": "d8be427f-2ec1-4dc5-80ea-e2697937f9e3",
   "metadata": {},
   "outputs": [],
   "source": [
    "import os\n",
    "import sys\n",
    "from pathlib import Path\n",
    "\n",
    "# 현재 위치 확인\n",
    "current_dir = Path.cwd()\n",
    "project_dir = Path.cwd()\n",
    "\n",
    "print(f\"현재 작업 디렉토리: {current_dir}\")\n",
    "print(f\"프로젝트 디렉토리: {project_dir}\")\n",
    "print(f\"프로젝트 디렉토리 존재: {project_dir.exists()}\")\n",
    "\n",
    "# 프로젝트 디렉토리로 이동\n",
    "os.chdir(project_dir)\n",
    "print(f\"이동 후 현재 디렉토리: {Path.cwd()}\")\n",
    "\n",
    "# 파일들 확인\n",
    "print(f\"\\n프로젝트 디렉토리 파일들:\")\n",
    "for item in sorted(project_dir.iterdir()):\n",
    "    if item.is_file() and item.suffix == '.py':\n",
    "        print(f\"  📄 {item.name}\")\n",
    "    elif item.is_dir():\n",
    "        print(f\" {item.name}/\")\n",
    "\n",
    "# src 디렉토리 확인\n",
    "src_dir = project_dir / 'src'\n",
    "if src_dir.exists():\n",
    "    print(f\"\\nsrc 디렉토리 내용:\")\n",
    "    for item in sorted(src_dir.rglob('*.py')):\n",
    "        print(f\"{item.relative_to(project_dir)}\")"
   ]
  },
  {
   "cell_type": "code",
   "execution_count": null,
   "id": "e3c6a4fe-e57c-419f-be8d-c33835952cac",
   "metadata": {},
   "outputs": [],
   "source": [
    "# 프로젝트 디렉토리 설정\n",
    "project_dir = Path.cwd()\n",
    "os.chdir(project_dir)\n",
    "\n",
    "# Python 경로에 프로젝트 디렉토리 추가\n",
    "if str(project_dir) not in sys.path:\n",
    "    sys.path.insert(0, str(project_dir))\n",
    "\n",
    "print(\" Python 경로 설정 완료\")\n",
    "print(f\"작업 디렉토리: {Path.cwd()}\")"
   ]
  },
  {
   "cell_type": "code",
   "execution_count": null,
   "id": "ad631e92-42ad-42c6-b2dd-756af23d7f77",
   "metadata": {
    "scrolled": true
   },
   "outputs": [],
   "source": [
    "%run train.py"
   ]
  },
  {
   "cell_type": "code",
   "execution_count": null,
   "id": "ca605696-3bc3-47dc-b2c8-4f880a9616f1",
   "metadata": {},
   "outputs": [],
   "source": [
    "%run test.py --model_path"
   ]
  }
 ],
 "metadata": {
  "kernelspec": {
   "display_name": "env1",
   "language": "python",
   "name": "env_python312"
  },
  "language_info": {
   "codemirror_mode": {
    "name": "ipython",
    "version": 3
   },
   "file_extension": ".py",
   "mimetype": "text/x-python",
   "name": "python",
   "nbconvert_exporter": "python",
   "pygments_lexer": "ipython3",
   "version": "3.12.11"
  }
 },
 "nbformat": 4,
 "nbformat_minor": 5
}
